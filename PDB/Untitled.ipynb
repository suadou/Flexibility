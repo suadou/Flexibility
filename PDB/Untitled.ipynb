{
 "cells": [
  {
   "cell_type": "code",
   "execution_count": 28,
   "id": "1bc997d0-f3b9-4355-80dd-e41e710c8193",
   "metadata": {},
   "outputs": [],
   "source": [
    "import re\n",
    "from Bio.Blast import NCBIWWW"
   ]
  },
  {
   "cell_type": "code",
   "execution_count": 20,
   "id": "15a65327-b10e-422c-b07c-79031ee5d9c3",
   "metadata": {},
   "outputs": [],
   "source": [
    "class Query(object):\n",
    "    def __init__(self, query, identifier):\n",
    "        self.sequence = query\n",
    "        self. identifier = identifier\n",
    "def BLAST_sp(query):\n",
    "    blast_XML = NCBIWWW.qblast(\"blastp\", database=\"swissprot\", sequence=query.sequence,\n",
    "                               alignments=0, hitlist_size=50, expect=1e-5, format_type=\"XML\")\n",
    "    return blast_XML\n",
    "        \n",
    "\n",
    "        \n",
    "\n",
    "\n",
    "\n",
    "new_query = Query('AQSVPYGISQIKAPALHSQGYTGSNVKVAVIDSGIDSSHPDLNVRGGASFVPSETNPYQDGSSHGTHVAGTIAALNNSIGVLGVAPSASLYAVKVLDSTGSGQYSWIINGIEWAISNNMDVINMSLGGPTGSTALKTVVDKAVSSGIVVAAAAGNEGSSGSTSTVGYPAKYPSTIAVGAVNSANQRASFSSAGSELDVMAPGVSIQSTLPGGTYGAYNGTSMATPHVAGAAALILSKHPTWTNAQVRDRLESTATYLGSSFYYGKGLINVQAAAQ','aaa')\n",
    "hit = BLAST_sp(new_query)"
   ]
  },
  {
   "cell_type": "code",
   "execution_count": 21,
   "id": "dc2c9496-5c29-49d5-b2ed-f265d4abcd45",
   "metadata": {},
   "outputs": [],
   "source": [
    "f = open('bb.txt', 'w')\n",
    "for line in hit:\n",
    "    f.write(line)\n",
    "f.close()"
   ]
  },
  {
   "cell_type": "code",
   "execution_count": 55,
   "id": "44d33283-b6dd-47eb-9f2a-0d53770c5a50",
   "metadata": {},
   "outputs": [],
   "source": [
    "f = open('bb.txt', 'r')"
   ]
  },
  {
   "cell_type": "code",
   "execution_count": 56,
   "id": "60d16204-0938-4ea3-8757-fe29b4b062cb",
   "metadata": {},
   "outputs": [],
   "source": [
    "\n",
    "    swissprot_id = ''\n",
    "    hsp_alignlen = int()\n",
    "    hsp_identity = int()\n",
    "    for line in f:\n",
    "        if re.search('<Hit_id>', line) != None:\n",
    "            line = line.strip()\n",
    "            line = line.rstrip()\n",
    "            line = line.strip('<Hit_id>')\n",
    "            line = line.rstrip('</')\n",
    "            line = line.strip('sp|')\n",
    "            line = line.rstrip('|')\n",
    "            swissprot_id = line.split('.')[0]\n",
    "        if re.search('<Hsp_identity>', line) != None:\n",
    "            line = line.strip()\n",
    "            line = line.rstrip()\n",
    "            line = line.strip('<Hsp_identity>')\n",
    "            hsp_identity = line.rstrip('</')\n",
    "        if re.search('<Hsp_align-len>', line) != None:\n",
    "            line = line.strip()\n",
    "            line = line.rstrip()\n",
    "            line = line.strip('<Hsp_align-len>')\n",
    "            hsp_alignlen = line.rstrip('</')\n",
    "        if swissprot_id and hsp_alignlen and hsp_identity:\n",
    "            tuple ([swissprot_id, int(hsp_identity) / int(hsp_alignlen)])\n",
    "            swissprot_id = ''\n",
    "            hsp_alignlen = ''\n",
    "            hsp_identity = ''"
   ]
  },
  {
   "cell_type": "code",
   "execution_count": 57,
   "id": "a77da84b-3213-4b21-81ad-71821b76e18c",
   "metadata": {},
   "outputs": [
    {
     "data": {
      "text/plain": [
       "<_io.TextIOWrapper name='bb.txt' mode='r' encoding='UTF-8'>"
      ]
     },
     "execution_count": 57,
     "metadata": {},
     "output_type": "execute_result"
    }
   ],
   "source": [
    "_"
   ]
  },
  {
   "cell_type": "code",
   "execution_count": 58,
   "id": "99be3870-e977-4bed-9d01-feb9ad8d6071",
   "metadata": {},
   "outputs": [],
   "source": [
    "import requests"
   ]
  },
  {
   "cell_type": "code",
   "execution_count": 63,
   "id": "291dbc0e-4234-4d22-b27a-b834098dbc31",
   "metadata": {},
   "outputs": [],
   "source": [
    "url = \"https://alphafold.ebi.ac.uk/files/AF-\" + \"P110SA8\" + \"-F1-model_v2.pdb\"\n",
    "A = requests.get(url)"
   ]
  },
  {
   "cell_type": "code",
   "execution_count": 64,
   "id": "76562ead-747f-4ad3-9ff3-7ffaba575b4f",
   "metadata": {},
   "outputs": [
    {
     "data": {
      "text/plain": [
       "<Response [404]>"
      ]
     },
     "execution_count": 64,
     "metadata": {},
     "output_type": "execute_result"
    }
   ],
   "source": [
    "A"
   ]
  },
  {
   "cell_type": "code",
   "execution_count": null,
   "id": "1d6efd01-a1c1-4af8-b62b-2ff07665f231",
   "metadata": {},
   "outputs": [],
   "source": []
  }
 ],
 "metadata": {
  "kernelspec": {
   "display_name": "Python 3",
   "language": "python",
   "name": "python3"
  },
  "language_info": {
   "codemirror_mode": {
    "name": "ipython",
    "version": 3
   },
   "file_extension": ".py",
   "mimetype": "text/x-python",
   "name": "python",
   "nbconvert_exporter": "python",
   "pygments_lexer": "ipython3",
   "version": "3.8.8"
  }
 },
 "nbformat": 4,
 "nbformat_minor": 5
}
